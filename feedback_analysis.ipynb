{
  "nbformat": 4,
  "nbformat_minor": 0,
  "metadata": {
    "colab": {
      "provenance": [],
      "authorship_tag": "ABX9TyOiqNnI2ygIx0TLHfhtILVD",
      "include_colab_link": true
    },
    "kernelspec": {
      "name": "python3",
      "display_name": "Python 3"
    },
    "language_info": {
      "name": "python"
    }
  },
  "cells": [
    {
      "cell_type": "markdown",
      "metadata": {
        "id": "view-in-github",
        "colab_type": "text"
      },
      "source": [
        "<a href=\"https://colab.research.google.com/github/ARPIT-SINGHAL-22102003/Sentiment-Analysis/blob/main/feedback_analysis.ipynb\" target=\"_parent\"><img src=\"https://colab.research.google.com/assets/colab-badge.svg\" alt=\"Open In Colab\"/></a>"
      ]
    },
    {
      "cell_type": "code",
      "execution_count": 28,
      "metadata": {
        "colab": {
          "base_uri": "https://localhost:8080/"
        },
        "id": "wJd9_5yNMe4o",
        "outputId": "3ae35895-f1d2-4263-c05f-1770b4dda95c"
      },
      "outputs": [
        {
          "output_type": "stream",
          "name": "stdout",
          "text": [
            "Requirement already satisfied: pandas in /usr/local/lib/python3.11/dist-packages (2.2.2)\n",
            "Requirement already satisfied: numpy>=1.23.2 in /usr/local/lib/python3.11/dist-packages (from pandas) (2.0.2)\n",
            "Requirement already satisfied: python-dateutil>=2.8.2 in /usr/local/lib/python3.11/dist-packages (from pandas) (2.9.0.post0)\n",
            "Requirement already satisfied: pytz>=2020.1 in /usr/local/lib/python3.11/dist-packages (from pandas) (2025.2)\n",
            "Requirement already satisfied: tzdata>=2022.7 in /usr/local/lib/python3.11/dist-packages (from pandas) (2025.2)\n",
            "Requirement already satisfied: six>=1.5 in /usr/local/lib/python3.11/dist-packages (from python-dateutil>=2.8.2->pandas) (1.17.0)\n"
          ]
        }
      ],
      "source": [
        "pip install pandas"
      ]
    },
    {
      "cell_type": "code",
      "source": [
        "import pandas as pd\n",
        "#loding dataset\n",
        "df = pd.read_csv('/content/Customer_support_data.csv')\n",
        "print(df.head())"
      ],
      "metadata": {
        "colab": {
          "base_uri": "https://localhost:8080/"
        },
        "id": "6eeVAwH7MseX",
        "outputId": "0158ada1-6563-495f-cad8-7f5504de94d0"
      },
      "execution_count": 29,
      "outputs": [
        {
          "output_type": "stream",
          "name": "stdout",
          "text": [
            "                              Unique id channel_name         category  \\\n",
            "0  7e9ae164-6a8b-4521-a2d4-58f7c9fff13f      Outcall  Product Queries   \n",
            "1  b07ec1b0-f376-43b6-86df-ec03da3b2e16      Outcall  Product Queries   \n",
            "2  200814dd-27c7-4149-ba2b-bd3af3092880      Inbound    Order Related   \n",
            "3  eb0d3e53-c1ca-42d3-8486-e42c8d622135      Inbound          Returns   \n",
            "4  ba903143-1e54-406c-b969-46c52f92e5df      Inbound     Cancellation   \n",
            "\n",
            "                   Sub-category Customer Remarks  \\\n",
            "0                Life Insurance              NaN   \n",
            "1  Product Specific Information              NaN   \n",
            "2             Installation/demo              NaN   \n",
            "3        Reverse Pickup Enquiry              NaN   \n",
            "4                    Not Needed              NaN   \n",
            "\n",
            "                               Order_id order_date_time Issue_reported at  \\\n",
            "0  c27c9bb4-fa36-4140-9f1f-21009254ffdb             NaN  01/08/2023 11:13   \n",
            "1  d406b0c7-ce17-4654-b9de-f08d421254bd             NaN  01/08/2023 12:52   \n",
            "2  c273368d-b961-44cb-beaf-62d6fd6c00d5             NaN  01/08/2023 20:16   \n",
            "3  5aed0059-55a4-4ec6-bb54-97942092020a             NaN  01/08/2023 20:56   \n",
            "4  e8bed5a9-6933-4aff-9dc6-ccefd7dcde59             NaN  01/08/2023 10:30   \n",
            "\n",
            "    issue_responded Survey_response_Date Customer_City Product_category  \\\n",
            "0  01/08/2023 11:47            01-Aug-23           NaN              NaN   \n",
            "1  01/08/2023 12:54            01-Aug-23           NaN              NaN   \n",
            "2  01/08/2023 20:38            01-Aug-23           NaN              NaN   \n",
            "3  01/08/2023 21:16            01-Aug-23           NaN              NaN   \n",
            "4  01/08/2023 10:32            01-Aug-23           NaN              NaN   \n",
            "\n",
            "   Item_price  connected_handling_time           Agent_name      Supervisor  \\\n",
            "0         NaN                      NaN     Richard Buchanan     Mason Gupta   \n",
            "1         NaN                      NaN        Vicki Collins       Dylan Kim   \n",
            "2         NaN                      NaN         Duane Norman    Jackson Park   \n",
            "3         NaN                      NaN       Patrick Flores     Olivia Wang   \n",
            "4         NaN                      NaN  Christopher Sanchez  Austin Johnson   \n",
            "\n",
            "           Manager    Tenure Bucket Agent Shift  CSAT Score  \n",
            "0  Jennifer Nguyen  On Job Training     Morning           5  \n",
            "1      Michael Lee              >90     Morning           5  \n",
            "2      William Kim  On Job Training     Evening           5  \n",
            "3       John Smith              >90     Evening           5  \n",
            "4      Michael Lee             0-30     Morning           5  \n"
          ]
        }
      ]
    },
    {
      "cell_type": "code",
      "source": [
        "print(df.columns)"
      ],
      "metadata": {
        "colab": {
          "base_uri": "https://localhost:8080/"
        },
        "id": "7u8PeROwM7Gc",
        "outputId": "f22f9934-e898-4969-a6e1-208926e71d84"
      },
      "execution_count": 30,
      "outputs": [
        {
          "output_type": "stream",
          "name": "stdout",
          "text": [
            "Index(['Unique id', 'channel_name', 'category', 'Sub-category',\n",
            "       'Customer Remarks', 'Order_id', 'order_date_time', 'Issue_reported at',\n",
            "       'issue_responded', 'Survey_response_Date', 'Customer_City',\n",
            "       'Product_category', 'Item_price', 'connected_handling_time',\n",
            "       'Agent_name', 'Supervisor', 'Manager', 'Tenure Bucket', 'Agent Shift',\n",
            "       'CSAT Score'],\n",
            "      dtype='object')\n"
          ]
        }
      ]
    },
    {
      "cell_type": "code",
      "source": [
        "# Make column names lowercase and replace spaces with underscores\n",
        "df.columns = df.columns.str.strip().str.lower().str.replace(' ', '_')"
      ],
      "metadata": {
        "id": "krQA3BrlOQ5U"
      },
      "execution_count": 31,
      "outputs": []
    },
    {
      "cell_type": "code",
      "source": [
        "# Show only the feedback column\n",
        "print(df['customer_remarks'].head())"
      ],
      "metadata": {
        "colab": {
          "base_uri": "https://localhost:8080/"
        },
        "id": "WGf7wug8OU90",
        "outputId": "9241bd0e-09c7-44dc-ec8b-d69b3403e62e"
      },
      "execution_count": 32,
      "outputs": [
        {
          "output_type": "stream",
          "name": "stdout",
          "text": [
            "0    NaN\n",
            "1    NaN\n",
            "2    NaN\n",
            "3    NaN\n",
            "4    NaN\n",
            "Name: customer_remarks, dtype: object\n"
          ]
        }
      ]
    },
    {
      "cell_type": "code",
      "source": [
        "# Drop rows where feedback is missing\n",
        "df = df.dropna(subset=['customer_remarks'])"
      ],
      "metadata": {
        "id": "IWomSx3WOdhu"
      },
      "execution_count": 33,
      "outputs": []
    },
    {
      "cell_type": "code",
      "source": [
        "df.to_csv(\"cleaned_feedback.csv\", index=False)"
      ],
      "metadata": {
        "id": "Zit5L-MCOhUK"
      },
      "execution_count": 36,
      "outputs": []
    },
    {
      "cell_type": "code",
      "source": [
        "# removing puctuation\n",
        "import re\n",
        "\n",
        "# Define a cleaning function\n",
        "def clean_text(text):\n",
        "    text = re.sub(r'[^a-z\\s]', '', text)  # Keep only letters and spaces\n",
        "    text = re.sub(r'\\s+', ' ', text)      # Remove extra spaces\n",
        "    return text.strip()\n",
        "\n",
        "# Apply to the column\n",
        "df['customer_remarks'] = df['customer_remarks'].apply(clean_text)"
      ],
      "metadata": {
        "id": "QkcM3wu-O7uA"
      },
      "execution_count": 34,
      "outputs": []
    },
    {
      "cell_type": "code",
      "source": [
        "import nltk\n",
        "from nltk.corpus import stopwords\n",
        "\n",
        "# Download stopwords if not already\n",
        "nltk.download('stopwords')\n",
        "stop_words = set(stopwords.words('english'))\n",
        "\n",
        "# Remove stopwords\n",
        "def remove_stopwords(text):\n",
        "    return ' '.join([word for word in text.split() if word not in stop_words])\n",
        "\n",
        "df['customer_remarks'] = df['customer_remarks'].apply(remove_stopwords)"
      ],
      "metadata": {
        "colab": {
          "base_uri": "https://localhost:8080/"
        },
        "id": "vmxMhpLXPd1j",
        "outputId": "abadf96b-38ea-4389-f715-bc71bb20b387"
      },
      "execution_count": 35,
      "outputs": [
        {
          "output_type": "stream",
          "name": "stderr",
          "text": [
            "[nltk_data] Downloading package stopwords to /root/nltk_data...\n",
            "[nltk_data]   Package stopwords is already up-to-date!\n"
          ]
        }
      ]
    },
    {
      "cell_type": "code",
      "source": [
        "print(df['customer_remarks'].head())"
      ],
      "metadata": {
        "colab": {
          "base_uri": "https://localhost:8080/"
        },
        "id": "agUMuPMNPob8",
        "outputId": "021aca45-6817-44b3-a09f-065b8fa90124"
      },
      "execution_count": 37,
      "outputs": [
        {
          "output_type": "stream",
          "name": "stdout",
          "text": [
            "7                                              ery good\n",
            "8     hopzilla app coustomer care services good serv...\n",
            "11                                              ery bad\n",
            "17                                             omething\n",
            "19                                                 good\n",
            "Name: customer_remarks, dtype: object\n"
          ]
        }
      ]
    },
    {
      "cell_type": "code",
      "source": [
        "pip install textblob"
      ],
      "metadata": {
        "colab": {
          "base_uri": "https://localhost:8080/"
        },
        "id": "Tf8SIxkwP5bT",
        "outputId": "8db45a12-4fb6-4307-bc5a-32f26c1ea481"
      },
      "execution_count": 38,
      "outputs": [
        {
          "output_type": "stream",
          "name": "stdout",
          "text": [
            "Requirement already satisfied: textblob in /usr/local/lib/python3.11/dist-packages (0.19.0)\n",
            "Requirement already satisfied: nltk>=3.9 in /usr/local/lib/python3.11/dist-packages (from textblob) (3.9.1)\n",
            "Requirement already satisfied: click in /usr/local/lib/python3.11/dist-packages (from nltk>=3.9->textblob) (8.2.1)\n",
            "Requirement already satisfied: joblib in /usr/local/lib/python3.11/dist-packages (from nltk>=3.9->textblob) (1.5.1)\n",
            "Requirement already satisfied: regex>=2021.8.3 in /usr/local/lib/python3.11/dist-packages (from nltk>=3.9->textblob) (2024.11.6)\n",
            "Requirement already satisfied: tqdm in /usr/local/lib/python3.11/dist-packages (from nltk>=3.9->textblob) (4.67.1)\n"
          ]
        }
      ]
    },
    {
      "cell_type": "code",
      "source": [
        "from textblob import TextBlob\n",
        "def get_sentiment(text):\n",
        "  blob = TextBlob(text)\n",
        "  return pd.Series({\n",
        "      'polarity': blob.sentiment.polarity,\n",
        "\n",
        "      #Range: [-1.0, 1.0]\n",
        "      'subjectivity': blob.sentiment.subjectivity\n",
        "      # Range: [0.0, 1.0]\n",
        "  })"
      ],
      "metadata": {
        "id": "x1yH_ejTP-iX"
      },
      "execution_count": 39,
      "outputs": []
    },
    {
      "cell_type": "code",
      "source": [
        "# applying to the data frame\n",
        "sentiment_scores = df['customer_remarks'].apply(get_sentiment)\n",
        "df = pd.concat([df, sentiment_scores], axis=1)"
      ],
      "metadata": {
        "id": "rF_pcqIXQzW4"
      },
      "execution_count": 40,
      "outputs": []
    },
    {
      "cell_type": "code",
      "source": [
        "# classifying the sentiments\n",
        "def classify_sentiment(polarity):\n",
        "    if polarity > 0.2:\n",
        "        return 'positive'\n",
        "    elif polarity < -0.2:\n",
        "        return 'negative'\n",
        "    else:\n",
        "        return 'neutral'\n",
        "\n",
        "df['sentiment_label'] = df['polarity'].apply(classify_sentiment)"
      ],
      "metadata": {
        "id": "qzPOu8jvQ_NC"
      },
      "execution_count": 41,
      "outputs": []
    },
    {
      "cell_type": "code",
      "source": [
        "df[['customer_remarks', 'polarity', 'subjectivity', 'sentiment_label']].head(10).style.set_properties(**{\n",
        "    'background-color': '#f9f9f9',\n",
        "    'border': '1px solid #ccc',\n",
        "    'padding': '5px',\n",
        "    'color': 'black'\n",
        "})"
      ],
      "metadata": {
        "colab": {
          "base_uri": "https://localhost:8080/",
          "height": 363
        },
        "id": "BZpAf1jCRNsk",
        "outputId": "38b9f92d-d734-4f68-80e0-3df3284a171f"
      },
      "execution_count": 42,
      "outputs": [
        {
          "output_type": "execute_result",
          "data": {
            "text/plain": [
              "<pandas.io.formats.style.Styler at 0x7aadc08fba10>"
            ],
            "text/html": [
              "<style type=\"text/css\">\n",
              "#T_17dec_row0_col0, #T_17dec_row0_col1, #T_17dec_row0_col2, #T_17dec_row0_col3, #T_17dec_row1_col0, #T_17dec_row1_col1, #T_17dec_row1_col2, #T_17dec_row1_col3, #T_17dec_row2_col0, #T_17dec_row2_col1, #T_17dec_row2_col2, #T_17dec_row2_col3, #T_17dec_row3_col0, #T_17dec_row3_col1, #T_17dec_row3_col2, #T_17dec_row3_col3, #T_17dec_row4_col0, #T_17dec_row4_col1, #T_17dec_row4_col2, #T_17dec_row4_col3, #T_17dec_row5_col0, #T_17dec_row5_col1, #T_17dec_row5_col2, #T_17dec_row5_col3, #T_17dec_row6_col0, #T_17dec_row6_col1, #T_17dec_row6_col2, #T_17dec_row6_col3, #T_17dec_row7_col0, #T_17dec_row7_col1, #T_17dec_row7_col2, #T_17dec_row7_col3, #T_17dec_row8_col0, #T_17dec_row8_col1, #T_17dec_row8_col2, #T_17dec_row8_col3, #T_17dec_row9_col0, #T_17dec_row9_col1, #T_17dec_row9_col2, #T_17dec_row9_col3 {\n",
              "  background-color: #f9f9f9;\n",
              "  border: 1px solid #ccc;\n",
              "  padding: 5px;\n",
              "  color: black;\n",
              "}\n",
              "</style>\n",
              "<table id=\"T_17dec\" class=\"dataframe\">\n",
              "  <thead>\n",
              "    <tr>\n",
              "      <th class=\"blank level0\" >&nbsp;</th>\n",
              "      <th id=\"T_17dec_level0_col0\" class=\"col_heading level0 col0\" >customer_remarks</th>\n",
              "      <th id=\"T_17dec_level0_col1\" class=\"col_heading level0 col1\" >polarity</th>\n",
              "      <th id=\"T_17dec_level0_col2\" class=\"col_heading level0 col2\" >subjectivity</th>\n",
              "      <th id=\"T_17dec_level0_col3\" class=\"col_heading level0 col3\" >sentiment_label</th>\n",
              "    </tr>\n",
              "  </thead>\n",
              "  <tbody>\n",
              "    <tr>\n",
              "      <th id=\"T_17dec_level0_row0\" class=\"row_heading level0 row0\" >7</th>\n",
              "      <td id=\"T_17dec_row0_col0\" class=\"data row0 col0\" >ery good</td>\n",
              "      <td id=\"T_17dec_row0_col1\" class=\"data row0 col1\" >0.700000</td>\n",
              "      <td id=\"T_17dec_row0_col2\" class=\"data row0 col2\" >0.600000</td>\n",
              "      <td id=\"T_17dec_row0_col3\" class=\"data row0 col3\" >positive</td>\n",
              "    </tr>\n",
              "    <tr>\n",
              "      <th id=\"T_17dec_level0_row1\" class=\"row_heading level0 row1\" >8</th>\n",
              "      <td id=\"T_17dec_row1_col0\" class=\"data row1 col0\" >hopzilla app coustomer care services good service provided time</td>\n",
              "      <td id=\"T_17dec_row1_col1\" class=\"data row1 col1\" >0.700000</td>\n",
              "      <td id=\"T_17dec_row1_col2\" class=\"data row1 col2\" >0.600000</td>\n",
              "      <td id=\"T_17dec_row1_col3\" class=\"data row1 col3\" >positive</td>\n",
              "    </tr>\n",
              "    <tr>\n",
              "      <th id=\"T_17dec_level0_row2\" class=\"row_heading level0 row2\" >11</th>\n",
              "      <td id=\"T_17dec_row2_col0\" class=\"data row2 col0\" >ery bad</td>\n",
              "      <td id=\"T_17dec_row2_col1\" class=\"data row2 col1\" >-0.700000</td>\n",
              "      <td id=\"T_17dec_row2_col2\" class=\"data row2 col2\" >0.666667</td>\n",
              "      <td id=\"T_17dec_row2_col3\" class=\"data row2 col3\" >negative</td>\n",
              "    </tr>\n",
              "    <tr>\n",
              "      <th id=\"T_17dec_level0_row3\" class=\"row_heading level0 row3\" >17</th>\n",
              "      <td id=\"T_17dec_row3_col0\" class=\"data row3 col0\" >omething</td>\n",
              "      <td id=\"T_17dec_row3_col1\" class=\"data row3 col1\" >0.000000</td>\n",
              "      <td id=\"T_17dec_row3_col2\" class=\"data row3 col2\" >0.000000</td>\n",
              "      <td id=\"T_17dec_row3_col3\" class=\"data row3 col3\" >neutral</td>\n",
              "    </tr>\n",
              "    <tr>\n",
              "      <th id=\"T_17dec_level0_row4\" class=\"row_heading level0 row4\" >19</th>\n",
              "      <td id=\"T_17dec_row4_col0\" class=\"data row4 col0\" >good</td>\n",
              "      <td id=\"T_17dec_row4_col1\" class=\"data row4 col1\" >0.700000</td>\n",
              "      <td id=\"T_17dec_row4_col2\" class=\"data row4 col2\" >0.600000</td>\n",
              "      <td id=\"T_17dec_row4_col3\" class=\"data row4 col3\" >positive</td>\n",
              "    </tr>\n",
              "    <tr>\n",
              "      <th id=\"T_17dec_level0_row5\" class=\"row_heading level0 row5\" >21</th>\n",
              "      <td id=\"T_17dec_row5_col0\" class=\"data row5 col0\" >ood</td>\n",
              "      <td id=\"T_17dec_row5_col1\" class=\"data row5 col1\" >0.000000</td>\n",
              "      <td id=\"T_17dec_row5_col2\" class=\"data row5 col2\" >0.000000</td>\n",
              "      <td id=\"T_17dec_row5_col3\" class=\"data row5 col3\" >neutral</td>\n",
              "    </tr>\n",
              "    <tr>\n",
              "      <th id=\"T_17dec_level0_row6\" class=\"row_heading level0 row6\" >23</th>\n",
              "      <td id=\"T_17dec_row6_col0\" class=\"data row6 col0\" >odd job</td>\n",
              "      <td id=\"T_17dec_row6_col1\" class=\"data row6 col1\" >-0.166667</td>\n",
              "      <td id=\"T_17dec_row6_col2\" class=\"data row6 col2\" >0.250000</td>\n",
              "      <td id=\"T_17dec_row6_col3\" class=\"data row6 col3\" >neutral</td>\n",
              "    </tr>\n",
              "    <tr>\n",
              "      <th id=\"T_17dec_level0_row7\" class=\"row_heading level0 row7\" >25</th>\n",
              "      <td id=\"T_17dec_row7_col0\" class=\"data row7 col0\" >ssue resolved pathetic service</td>\n",
              "      <td id=\"T_17dec_row7_col1\" class=\"data row7 col1\" >-1.000000</td>\n",
              "      <td id=\"T_17dec_row7_col2\" class=\"data row7 col2\" >1.000000</td>\n",
              "      <td id=\"T_17dec_row7_col3\" class=\"data row7 col3\" >negative</td>\n",
              "    </tr>\n",
              "    <tr>\n",
              "      <th id=\"T_17dec_level0_row8\" class=\"row_heading level0 row8\" >27</th>\n",
              "      <td id=\"T_17dec_row8_col0\" class=\"data row8 col0\" >xcellent</td>\n",
              "      <td id=\"T_17dec_row8_col1\" class=\"data row8 col1\" >0.000000</td>\n",
              "      <td id=\"T_17dec_row8_col2\" class=\"data row8 col2\" >0.000000</td>\n",
              "      <td id=\"T_17dec_row8_col3\" class=\"data row8 col3\" >neutral</td>\n",
              "    </tr>\n",
              "    <tr>\n",
              "      <th id=\"T_17dec_level0_row9\" class=\"row_heading level0 row9\" >29</th>\n",
              "      <td id=\"T_17dec_row9_col0\" class=\"data row9 col0\" >ery good</td>\n",
              "      <td id=\"T_17dec_row9_col1\" class=\"data row9 col1\" >0.700000</td>\n",
              "      <td id=\"T_17dec_row9_col2\" class=\"data row9 col2\" >0.600000</td>\n",
              "      <td id=\"T_17dec_row9_col3\" class=\"data row9 col3\" >positive</td>\n",
              "    </tr>\n",
              "  </tbody>\n",
              "</table>\n"
            ]
          },
          "metadata": {},
          "execution_count": 42
        }
      ]
    },
    {
      "cell_type": "code",
      "source": [
        "import matplotlib.pyplot as plt\n",
        "import seaborn as sns\n",
        "# Count sentiment labels\n",
        "sentiment_counts = df['sentiment_label'].value_counts()\n",
        "\n",
        "# Plot\n",
        "sns.barplot(x=sentiment_counts.index, y=sentiment_counts.values, palette='pastel')\n",
        "plt.title('Sentiment Distribution')\n",
        "plt.xlabel('Sentiment')\n",
        "plt.ylabel('Number of Reviews')\n",
        "plt.show()\n"
      ],
      "metadata": {
        "colab": {
          "base_uri": "https://localhost:8080/",
          "height": 559
        },
        "id": "bqMSvd2zR4C8",
        "outputId": "413aa272-6851-47d2-bbc6-7562b1c79996"
      },
      "execution_count": 43,
      "outputs": [
        {
          "output_type": "stream",
          "name": "stderr",
          "text": [
            "/tmp/ipython-input-883337231.py:7: FutureWarning: \n",
            "\n",
            "Passing `palette` without assigning `hue` is deprecated and will be removed in v0.14.0. Assign the `x` variable to `hue` and set `legend=False` for the same effect.\n",
            "\n",
            "  sns.barplot(x=sentiment_counts.index, y=sentiment_counts.values, palette='pastel')\n"
          ]
        },
        {
          "output_type": "display_data",
          "data": {
            "text/plain": [
              "<Figure size 640x480 with 1 Axes>"
            ],
            "image/png": "[encoded data removed]"
          },
          "metadata": {}
        }
      ]
    },
    {
      "cell_type": "code",
      "source": [
        "# Ensure 'issue_reported_at' column is datetime\n",
        "df['issue_reported_at'] = pd.to_datetime(df['issue_reported_at'], format='%d/%m/%Y %H:%M')\n",
        "\n",
        "# Group by date and sentiment\n",
        "trend_data = df.groupby([df['issue_reported_at'].dt.to_period('M'), 'sentiment_label']).size().unstack().fillna(0)\n",
        "\n",
        "# Plot\n",
        "trend_data.plot(kind='line', figsize=(12, 6), marker='o')\n",
        "plt.title('Sentiment Trend Over Time')\n",
        "plt.xlabel('Month')\n",
        "plt.ylabel('Number of Reviews')\n",
        "plt.legend(title='Sentiment')\n",
        "plt.show()"
      ],
      "metadata": {
        "colab": {
          "base_uri": "https://localhost:8080/",
          "height": 578
        },
        "id": "_7P4_nQrSIL_",
        "outputId": "1706af22-17be-4cc0-cd57-f2d583809c26"
      },
      "execution_count": 27,
      "outputs": [
        {
          "output_type": "display_data",
          "data": {
            "text/plain": [
              "<Figure size 1200x600 with 1 Axes>"
            ],
            "image/png": "[encoded data removed]"
          },
          "metadata": {}
        }
      ]
    }
  ]
}